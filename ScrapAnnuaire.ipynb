{
 "cells": [
  {
   "cell_type": "markdown",
   "metadata": {},
   "source": [
    "# Traitement de l'annuaire du service public"
   ]
  },
  {
   "cell_type": "markdown",
   "metadata": {},
   "source": [
    "** Où en est la parité dans les postes de chef / cheffe de la haute administration publique d'Etat  ?**"
   ]
  },
  {
   "cell_type": "code",
   "execution_count": 2,
   "metadata": {},
   "outputs": [],
   "source": [
    "from bs4 import BeautifulSoup\n",
    "import urllib\n",
    "import re\n",
    "import requests\n",
    "import urllib.request\n",
    "import codecs\n",
    "import xml.etree.ElementTree as etree\n",
    "import pandas as pd\n",
    "import bs4\n",
    "import os\n",
    "import numpy as np\n",
    "import unicodedata\n",
    "from  more_itertools import unique_everseen"
   ]
  },
  {
   "cell_type": "code",
   "execution_count": 3,
   "metadata": {},
   "outputs": [],
   "source": [
    "pd.options.mode.chained_assignment = None  # default='warn'"
   ]
  },
  {
   "cell_type": "code",
   "execution_count": 4,
   "metadata": {},
   "outputs": [],
   "source": [
    "def retirerCaracteresSpeciaux(chaine) :\n",
    "    chaine = unicodedata.normalize('NFD', chaine).encode('ascii', 'ignore').decode('utf-8')\n",
    "    return(chaine)"
   ]
  },
  {
   "cell_type": "code",
   "execution_count": 5,
   "metadata": {},
   "outputs": [],
   "source": [
    "def separerTitre (chaine) :\n",
    "    regex_Titre = '^(.*), (.*)$'\n",
    "    if re.search(regex_Titre, chaine) : \n",
    "        return(re.search(regex_Titre, chaine).groups())\n",
    "    else : \n",
    "        return(['',''])"
   ]
  },
  {
   "cell_type": "code",
   "execution_count": 6,
   "metadata": {},
   "outputs": [],
   "source": [
    "def separerPrenomNomTitre (chaine) :\n",
    "    regex_prenomNomTitre = '^([A-Za-z \\-\\']*?) ([A-Z \\-\\']{2,})(|, *)($|[,A-Za-z -\\']*)'\n",
    "    if re.search(regex_prenomNomTitre, chaine) : \n",
    "        return(re.search(regex_prenomNomTitre, chaine).groups())\n",
    "    else : \n",
    "        return(['', '','', ''])"
   ]
  },
  {
   "cell_type": "code",
   "execution_count": 7,
   "metadata": {},
   "outputs": [],
   "source": [
    "def traiterHierarchie (chaine) :\n",
    "    chaine = chaine.split('>')\n",
    "    chaine = [e.lstrip().rstrip() for e in chaine]\n",
    "    chaine = [e for e in chaine if e != '']\n",
    "    chaine = list(unique_everseen(chaine))\n",
    "\n",
    "    return([chaine, len(chaine)])"
   ]
  },
  {
   "cell_type": "markdown",
   "metadata": {},
   "source": [
    "## Liste des services de l'annuaire"
   ]
  },
  {
   "cell_type": "code",
   "execution_count": null,
   "metadata": {},
   "outputs": [],
   "source": [
    "racine = \"https://lannuaire.service-public.fr/\"\n",
    "branches = [\"gouvernement\", \"institutions-juridictions\", \"autorites-independantes\", \"ambassades\", \"institutions-europeennes\"]\n",
    "branches = [racine + branche for branche in branches]\n",
    "branches_sauvegarde = []"
   ]
  },
  {
   "cell_type": "code",
   "execution_count": null,
   "metadata": {},
   "outputs": [],
   "source": [
    "while len(branches) >0 : \n",
    "    print('Nouveau tour')\n",
    "    branches_new = []\n",
    "    for i, url in enumerate(branches) :\n",
    "        print(i, url)\n",
    "        branches_sauvegarde.append(url)\n",
    "        \n",
    "        html_page = urllib.request.urlopen(url)\n",
    "        soup = BeautifulSoup(html_page, 'lxml')\n",
    "\n",
    "        # Organisations\n",
    "        for l0 in soup.find_all('li', itemprop = \"Organization\") :\n",
    "            for l1 in l0.find_all('a') : \n",
    "                lien = l1['href']\n",
    "                if lien not in branches_sauvegarde and lien not in branches_new: # Pour éviter les boucles à répétition\n",
    "                    branches_new.append(lien)\n",
    "    branches = branches_new              "
   ]
  },
  {
   "cell_type": "code",
   "execution_count": null,
   "metadata": {},
   "outputs": [],
   "source": [
    "print(len(branches_sauvegarde))"
   ]
  },
  {
   "cell_type": "markdown",
   "metadata": {},
   "source": [
    "## Téléchargement des pages"
   ]
  },
  {
   "cell_type": "code",
   "execution_count": null,
   "metadata": {},
   "outputs": [],
   "source": [
    "# Ecriture du fichier des url à charger\n",
    "with open('liens_bruts.txt', 'w') as f:\n",
    "    for item in branches_sauvegarde:\n",
    "        f.write(\"%s\\n\" % item)"
   ]
  },
  {
   "cell_type": "code",
   "execution_count": null,
   "metadata": {},
   "outputs": [],
   "source": [
    "if not os.path.exists(\"Pages\"):\n",
    "    os.makedirs(\"Pages\")"
   ]
  },
  {
   "cell_type": "code",
   "execution_count": null,
   "metadata": {},
   "outputs": [],
   "source": [
    "for url in branches_sauvegarde :\n",
    "    url_light = re.sub('^https://lannuaire.service-public.fr/', '', url)\n",
    "    url_light = url_light.replace('/', '_')\n",
    "    \n",
    "    nom_sauvegarde = 'Pages/' + url_light + '.html'\n",
    "    print(nom_sauvegarde)\n",
    "    if nom_sauvegarde == \".html\" :\n",
    "        continue\n",
    "    urllib.request.urlretrieve(url, nom_sauvegarde)"
   ]
  },
  {
   "cell_type": "code",
   "execution_count": null,
   "metadata": {},
   "outputs": [],
   "source": [
    "# Toutes les pages ont été téléchargées\n",
    "pages_chargees = [f for f in listdir('Pages/') if isfile(join('Pages/', f))]\n",
    "\n",
    "url_light = [re.sub('^https://lannuaire.service-public.fr/', '', f) for f in branches_sauvegarde]\n",
    "url_light = [f.replace('/', '_') + \".html\" for f in url_light]\n",
    "\n",
    "non_telechargees = list(set(pages_chargees) - set(url_light))\n",
    "non_telechargees"
   ]
  },
  {
   "cell_type": "markdown",
   "metadata": {},
   "source": [
    "## Extraction des informations"
   ]
  },
  {
   "cell_type": "code",
   "execution_count": null,
   "metadata": {},
   "outputs": [],
   "source": [
    "annuaire = []"
   ]
  },
  {
   "cell_type": "code",
   "execution_count": null,
   "metadata": {},
   "outputs": [],
   "source": [
    "for page in pages_chargees : \n",
    "    nom_complet = \"Pages/\" + page\n",
    "\n",
    "    f = codecs.open(nom_complet, 'r', 'utf-8')\n",
    "    document = BeautifulSoup(f.read(), \"lxml\")\n",
    "\n",
    "    #Hiérarchie --> Nettoyage plus tard\n",
    "    hierarchie = document.findAll('div', class_ = \"breadcrumb\")[0].text\n",
    "    hierarchie = hierarchie.split('>')[1:-1]\n",
    "    hierarchie = [s.replace('\\xa0', '') for s in hierarchie]\n",
    "    hierarchie = \" > \".join(hierarchie)\n",
    "\n",
    "    # Nom du service\n",
    "    service = document.findAll('h1', id = \"contentTitle\")[0].text\n",
    "\n",
    "    # Boucle sur les personnes\n",
    "    personnes = document.findAll('p', itemprop = \"jobTitle\")\n",
    "    for personne in personnes :\n",
    "        try : \n",
    "            titre = personne.text\n",
    "        except : \n",
    "            titre = ''\n",
    "        try : \n",
    "            nom = personne.next_sibling.text\n",
    "        except : \n",
    "            nom = ''\n",
    "        entree = {\"page\" : nom_complet, \"nom_service\" : service, \"hierarchie\" : hierarchie, \"titre\" : titre, \"personne\" : nom}\n",
    "        annuaire.append(entree)"
   ]
  },
  {
   "cell_type": "code",
   "execution_count": null,
   "metadata": {},
   "outputs": [],
   "source": [
    "annuaire = pd.DataFrame(annuaire)\n",
    "annuaire = annuaire.replace(\"\\\\n\",' ', regex=True) \n",
    "annuaire.to_csv('annuaire.csv', sep=';', encoding='utf-8', index=False)"
   ]
  },
  {
   "cell_type": "markdown",
   "metadata": {},
   "source": [
    "## Post-traitement pour nettoyer, uniformiser"
   ]
  },
  {
   "cell_type": "code",
   "execution_count": 8,
   "metadata": {},
   "outputs": [],
   "source": [
    "annuaire = pd.read_csv('annuaire.csv', header=0, sep = ';')"
   ]
  },
  {
   "cell_type": "code",
   "execution_count": 9,
   "metadata": {},
   "outputs": [],
   "source": [
    "annuaire['personne'] = annuaire['personne'].fillna('Non communiqué') # Si l'identité est absente\n",
    "annuaire['personne_raw'] = annuaire['personne'] # Sauvegarde car plus tard, on enlèvera tous les caractères spéciaux\n",
    "\n",
    "annuaire['personne'] = annuaire.apply(lambda row: retirerCaracteresSpeciaux(row['personne']), axis=1)\n",
    "annuaire['titre'] = annuaire.apply(lambda row: retirerCaracteresSpeciaux(row['titre']), axis=1)\n",
    "\n",
    "annuaire['prenom'] = annuaire.apply(lambda row: separerPrenomNomTitre(row['personne'])[0], axis=1).str.upper()\n",
    "annuaire['nom'] = annuaire.apply(lambda row: separerPrenomNomTitre(row['personne'])[1], axis=1)\n",
    "annuaire['corps'] = annuaire.apply(lambda row: separerPrenomNomTitre(row['personne'])[3], axis=1)\n",
    "annuaire['corps'] = annuaire.apply(lambda row: row['corps'].replace(', ', ''), axis=1)"
   ]
  },
  {
   "cell_type": "code",
   "execution_count": 10,
   "metadata": {},
   "outputs": [],
   "source": [
    "annuaire['profondeur'] = annuaire.apply(lambda row : traiterHierarchie(row['hierarchie'])[1], axis = 1) # Service placé + - haut\n",
    "annuaire['hierarchie'] = annuaire.apply(lambda row : '>'.join(traiterHierarchie(row['hierarchie'])[0]), axis = 1)\n",
    "annuaire['rang'] = annuaire.groupby('page').cumcount() # Ordre d'apparition sur la page"
   ]
  },
  {
   "cell_type": "markdown",
   "metadata": {},
   "source": [
    "## Chargement et prétraitement de la base prénom"
   ]
  },
  {
   "cell_type": "code",
   "execution_count": 11,
   "metadata": {},
   "outputs": [],
   "source": [
    "prenoms = pd.read_csv('nat2017.txt', sep = '\\t')"
   ]
  },
  {
   "cell_type": "code",
   "execution_count": 12,
   "metadata": {},
   "outputs": [
    {
     "data": {
      "text/html": [
       "<div>\n",
       "<style scoped>\n",
       "    .dataframe tbody tr th:only-of-type {\n",
       "        vertical-align: middle;\n",
       "    }\n",
       "\n",
       "    .dataframe tbody tr th {\n",
       "        vertical-align: top;\n",
       "    }\n",
       "\n",
       "    .dataframe thead th {\n",
       "        text-align: right;\n",
       "    }\n",
       "</style>\n",
       "<table border=\"1\" class=\"dataframe\">\n",
       "  <thead>\n",
       "    <tr style=\"text-align: right;\">\n",
       "      <th>sexe</th>\n",
       "      <th>preusuel</th>\n",
       "      <th>female</th>\n",
       "      <th>male</th>\n",
       "      <th>total</th>\n",
       "      <th>propMale</th>\n",
       "    </tr>\n",
       "  </thead>\n",
       "  <tbody>\n",
       "    <tr>\n",
       "      <th>0</th>\n",
       "      <td>A</td>\n",
       "      <td>0.0</td>\n",
       "      <td>28.0</td>\n",
       "      <td>28.0</td>\n",
       "      <td>1.0</td>\n",
       "    </tr>\n",
       "    <tr>\n",
       "      <th>1</th>\n",
       "      <td>AADAM</td>\n",
       "      <td>0.0</td>\n",
       "      <td>24.0</td>\n",
       "      <td>24.0</td>\n",
       "      <td>1.0</td>\n",
       "    </tr>\n",
       "    <tr>\n",
       "      <th>2</th>\n",
       "      <td>AADEL</td>\n",
       "      <td>0.0</td>\n",
       "      <td>55.0</td>\n",
       "      <td>55.0</td>\n",
       "      <td>1.0</td>\n",
       "    </tr>\n",
       "    <tr>\n",
       "      <th>3</th>\n",
       "      <td>AADIL</td>\n",
       "      <td>0.0</td>\n",
       "      <td>177.0</td>\n",
       "      <td>177.0</td>\n",
       "      <td>1.0</td>\n",
       "    </tr>\n",
       "    <tr>\n",
       "      <th>4</th>\n",
       "      <td>AAKASH</td>\n",
       "      <td>0.0</td>\n",
       "      <td>25.0</td>\n",
       "      <td>25.0</td>\n",
       "      <td>1.0</td>\n",
       "    </tr>\n",
       "  </tbody>\n",
       "</table>\n",
       "</div>"
      ],
      "text/plain": [
       "sexe preusuel  female   male  total  propMale\n",
       "0           A     0.0   28.0   28.0       1.0\n",
       "1       AADAM     0.0   24.0   24.0       1.0\n",
       "2       AADEL     0.0   55.0   55.0       1.0\n",
       "3       AADIL     0.0  177.0  177.0       1.0\n",
       "4      AAKASH     0.0   25.0   25.0       1.0"
      ]
     },
     "execution_count": 12,
     "metadata": {},
     "output_type": "execute_result"
    }
   ],
   "source": [
    "prenoms['sexe'] = prenoms['sexe'].map({2 : 'female', 1: 'male'})\n",
    "prenoms = prenoms.groupby(['sexe', 'preusuel'])['nombre'].sum().reset_index()\n",
    "prenoms['preusuel'] = prenoms.apply(lambda row: retirerCaracteresSpeciaux(row['preusuel']), axis=1)\n",
    "prenoms = prenoms.groupby(['sexe', 'preusuel'])['nombre'].sum().reset_index() # On somme à nouveau car variantes dues aux accents\n",
    "\n",
    "prenoms = prenoms.pivot(index = 'preusuel', columns = 'sexe', values = 'nombre').reset_index()\n",
    "\n",
    "prenoms = prenoms.fillna(0)\n",
    "prenoms['total'] = prenoms['female'] + prenoms['male']\n",
    "prenoms['propMale'] = prenoms['male']/prenoms['total']\n",
    "\n",
    "prenoms.head()"
   ]
  },
  {
   "cell_type": "code",
   "execution_count": 13,
   "metadata": {},
   "outputs": [
    {
     "name": "stdout",
     "output_type": "stream",
     "text": [
      "(30218, 5)\n"
     ]
    }
   ],
   "source": [
    "prenoms.to_csv('prenoms_light.csv', sep=';', encoding='utf-8', index=False)\n",
    "print(prenoms.shape)"
   ]
  },
  {
   "cell_type": "markdown",
   "metadata": {},
   "source": [
    "## Affectation d'un genre à chaque personne"
   ]
  },
  {
   "cell_type": "code",
   "execution_count": 14,
   "metadata": {
    "scrolled": true
   },
   "outputs": [
    {
     "data": {
      "text/html": [
       "<div>\n",
       "<style scoped>\n",
       "    .dataframe tbody tr th:only-of-type {\n",
       "        vertical-align: middle;\n",
       "    }\n",
       "\n",
       "    .dataframe tbody tr th {\n",
       "        vertical-align: top;\n",
       "    }\n",
       "\n",
       "    .dataframe thead th {\n",
       "        text-align: right;\n",
       "    }\n",
       "</style>\n",
       "<table border=\"1\" class=\"dataframe\">\n",
       "  <thead>\n",
       "    <tr style=\"text-align: right;\">\n",
       "      <th></th>\n",
       "      <th>hierarchie</th>\n",
       "      <th>nom_service</th>\n",
       "      <th>page</th>\n",
       "      <th>personne</th>\n",
       "      <th>titre</th>\n",
       "      <th>personne_raw</th>\n",
       "      <th>prenom</th>\n",
       "      <th>nom</th>\n",
       "      <th>corps</th>\n",
       "      <th>profondeur</th>\n",
       "      <th>rang</th>\n",
       "      <th>preusuel</th>\n",
       "      <th>propMale</th>\n",
       "      <th>_merge</th>\n",
       "      <th>genre</th>\n",
       "    </tr>\n",
       "  </thead>\n",
       "  <tbody>\n",
       "    <tr>\n",
       "      <th>0</th>\n",
       "      <td>Ministères&gt;Ministère de l'Europe et des Affair...</td>\n",
       "      <td>Ambassade de France MOLDAVIE - Chisinau</td>\n",
       "      <td>Pages/ambassades_ambassade-ou-mission-diplomat...</td>\n",
       "      <td>Pascal LE DEUNFF, ambassadeur extraordinaire e...</td>\n",
       "      <td>Ambassadeur</td>\n",
       "      <td>Pascal LE DEUNFF, ambassadeur extraordinaire e...</td>\n",
       "      <td>PASCAL</td>\n",
       "      <td>LE DEUNFF</td>\n",
       "      <td>ambassadeur extraordinaire et plenipotentiaire</td>\n",
       "      <td>3</td>\n",
       "      <td>0</td>\n",
       "      <td>PASCAL</td>\n",
       "      <td>0.999445</td>\n",
       "      <td>both</td>\n",
       "      <td>M</td>\n",
       "    </tr>\n",
       "    <tr>\n",
       "      <th>1</th>\n",
       "      <td>Ministères&gt;Ministère de l'Europe et des Affair...</td>\n",
       "      <td>Ambassade de France PAPOUASIE-NOUVELLE GUINÉE ...</td>\n",
       "      <td>Pages/ambassades_ambassade-ou-mission-diplomat...</td>\n",
       "      <td>Philippe JANVIER-KAMIYAMA</td>\n",
       "      <td>Ambassadeur</td>\n",
       "      <td>Philippe JANVIER-KAMIYAMA</td>\n",
       "      <td>PHILIPPE</td>\n",
       "      <td>JANVIER-KAMIYAMA</td>\n",
       "      <td></td>\n",
       "      <td>3</td>\n",
       "      <td>0</td>\n",
       "      <td>PHILIPPE</td>\n",
       "      <td>0.999463</td>\n",
       "      <td>both</td>\n",
       "      <td>M</td>\n",
       "    </tr>\n",
       "    <tr>\n",
       "      <th>2</th>\n",
       "      <td>Ministères&gt;Ministère de l'Europe et des Affair...</td>\n",
       "      <td>Consulat général de France ALLEMAGNE - Düsseldorf</td>\n",
       "      <td>Pages/ambassades_ambassade-ou-mission-diplomat...</td>\n",
       "      <td>Olivia BERKELEY-CHRISTMANN, conseillere des af...</td>\n",
       "      <td>Consule generale</td>\n",
       "      <td>Olivia BERKELEY-CHRISTMANN, conseillère des af...</td>\n",
       "      <td>OLIVIA</td>\n",
       "      <td>BERKELEY-CHRISTMANN</td>\n",
       "      <td>conseillere des affaires etrangeres</td>\n",
       "      <td>5</td>\n",
       "      <td>0</td>\n",
       "      <td>OLIVIA</td>\n",
       "      <td>0.000000</td>\n",
       "      <td>both</td>\n",
       "      <td>F</td>\n",
       "    </tr>\n",
       "    <tr>\n",
       "      <th>3</th>\n",
       "      <td>Ministères&gt;Ministère de l'Europe et des Affair...</td>\n",
       "      <td>Consulat général de France LIBAN - Beyrouth</td>\n",
       "      <td>Pages/ambassades_ambassade-ou-mission-diplomat...</td>\n",
       "      <td>Karim BEN CHEIKH</td>\n",
       "      <td>Consul general</td>\n",
       "      <td>Karim BEN CHEIKH</td>\n",
       "      <td>KARIM</td>\n",
       "      <td>BEN CHEIKH</td>\n",
       "      <td></td>\n",
       "      <td>4</td>\n",
       "      <td>0</td>\n",
       "      <td>KARIM</td>\n",
       "      <td>0.999185</td>\n",
       "      <td>both</td>\n",
       "      <td>M</td>\n",
       "    </tr>\n",
       "    <tr>\n",
       "      <th>4</th>\n",
       "      <td>Ministères&gt;Ministère de l'Europe et des Affair...</td>\n",
       "      <td>Consulat général de France MAROC - Agadir</td>\n",
       "      <td>Pages/ambassades_ambassade-ou-mission-diplomat...</td>\n",
       "      <td>Dominique DOUDET</td>\n",
       "      <td>Consul general</td>\n",
       "      <td>Dominique DOUDET</td>\n",
       "      <td>DOMINIQUE</td>\n",
       "      <td>DOUDET</td>\n",
       "      <td></td>\n",
       "      <td>4</td>\n",
       "      <td>0</td>\n",
       "      <td>DOMINIQUE</td>\n",
       "      <td>0.590075</td>\n",
       "      <td>both</td>\n",
       "      <td>NaN</td>\n",
       "    </tr>\n",
       "  </tbody>\n",
       "</table>\n",
       "</div>"
      ],
      "text/plain": [
       "                                          hierarchie  \\\n",
       "0  Ministères>Ministère de l'Europe et des Affair...   \n",
       "1  Ministères>Ministère de l'Europe et des Affair...   \n",
       "2  Ministères>Ministère de l'Europe et des Affair...   \n",
       "3  Ministères>Ministère de l'Europe et des Affair...   \n",
       "4  Ministères>Ministère de l'Europe et des Affair...   \n",
       "\n",
       "                                         nom_service  \\\n",
       "0            Ambassade de France MOLDAVIE - Chisinau   \n",
       "1  Ambassade de France PAPOUASIE-NOUVELLE GUINÉE ...   \n",
       "2  Consulat général de France ALLEMAGNE - Düsseldorf   \n",
       "3        Consulat général de France LIBAN - Beyrouth   \n",
       "4          Consulat général de France MAROC - Agadir   \n",
       "\n",
       "                                                page  \\\n",
       "0  Pages/ambassades_ambassade-ou-mission-diplomat...   \n",
       "1  Pages/ambassades_ambassade-ou-mission-diplomat...   \n",
       "2  Pages/ambassades_ambassade-ou-mission-diplomat...   \n",
       "3  Pages/ambassades_ambassade-ou-mission-diplomat...   \n",
       "4  Pages/ambassades_ambassade-ou-mission-diplomat...   \n",
       "\n",
       "                                            personne             titre  \\\n",
       "0  Pascal LE DEUNFF, ambassadeur extraordinaire e...       Ambassadeur   \n",
       "1                          Philippe JANVIER-KAMIYAMA       Ambassadeur   \n",
       "2  Olivia BERKELEY-CHRISTMANN, conseillere des af...  Consule generale   \n",
       "3                                   Karim BEN CHEIKH    Consul general   \n",
       "4                                   Dominique DOUDET    Consul general   \n",
       "\n",
       "                                        personne_raw     prenom  \\\n",
       "0  Pascal LE DEUNFF, ambassadeur extraordinaire e...     PASCAL   \n",
       "1                          Philippe JANVIER-KAMIYAMA   PHILIPPE   \n",
       "2  Olivia BERKELEY-CHRISTMANN, conseillère des af...     OLIVIA   \n",
       "3                                   Karim BEN CHEIKH      KARIM   \n",
       "4                                   Dominique DOUDET  DOMINIQUE   \n",
       "\n",
       "                   nom                                           corps  \\\n",
       "0            LE DEUNFF  ambassadeur extraordinaire et plenipotentiaire   \n",
       "1     JANVIER-KAMIYAMA                                                   \n",
       "2  BERKELEY-CHRISTMANN             conseillere des affaires etrangeres   \n",
       "3           BEN CHEIKH                                                   \n",
       "4               DOUDET                                                   \n",
       "\n",
       "   profondeur  rang   preusuel  propMale _merge genre  \n",
       "0           3     0     PASCAL  0.999445   both     M  \n",
       "1           3     0   PHILIPPE  0.999463   both     M  \n",
       "2           5     0     OLIVIA  0.000000   both     F  \n",
       "3           4     0      KARIM  0.999185   both     M  \n",
       "4           4     0  DOMINIQUE  0.590075   both   NaN  "
      ]
     },
     "execution_count": 14,
     "metadata": {},
     "output_type": "execute_result"
    }
   ],
   "source": [
    "annuaire_genre = annuaire.merge(prenoms[['preusuel', 'propMale']], left_on='prenom', right_on='preusuel', \n",
    "                      left_index = True, how = 'left', indicator = True)\n",
    "annuaire_genre = annuaire_genre.reset_index()\n",
    "annuaire_genre = annuaire_genre.drop(['index'], axis=1)\n",
    "\n",
    "annuaire_genre['genre'] = np.NaN\n",
    "annuaire_genre.loc[annuaire_genre['propMale']>0.95, 'genre'] = 'M'\n",
    "annuaire_genre.loc[annuaire_genre['propMale']<0.02, 'genre'] = 'F'\n",
    "annuaire_genre.head()"
   ]
  },
  {
   "cell_type": "code",
   "execution_count": 15,
   "metadata": {},
   "outputs": [],
   "source": [
    "titreF = ['directrice', 'cheffe', 'conseillere', 'presidente', 'generale', 'deleguee',\n",
    " 'chargee', 'agente', 'adjointe', 'ambassadrice', 'consule', 'administratrice', 'elue']\n",
    "titreM = ['ambassadeur', 'president', 'chef', 'directeur', 'controleur', 'conseiller', 'inspecteur', \n",
    " 'adjoint', 'controleur', 'delegue', 'charge', 'coordonnateur', 'general','agent', 'elu', 'commandant', 'lieutenant']\n",
    "\n",
    "prenomsF = ['MARITSA', 'CERA', 'URWANA', 'EVGENIA', 'YASMINE-EVA', 'EDWIGE', 'HELEN']\n",
    "prenomsH = ['ETIENNE-MARTIN', 'GARIN', 'THIERRY-OLIVIER', 'VALERY']"
   ]
  },
  {
   "cell_type": "code",
   "execution_count": 16,
   "metadata": {},
   "outputs": [],
   "source": [
    "# Traitement des lignes indéterminées\n",
    "for i, row in annuaire_genre.iterrows():\n",
    "    \n",
    "    if pd.isnull(row[\"genre\"]) and row['personne'] != 'Non communique':\n",
    "        mots = row[\"titre\"].replace(',',' ').replace('-', ' ').split()\n",
    "        mots = [m.lower() for m in mots]\n",
    "        \n",
    "        # Si la fonction est féminisée ou le prénom dans la liste des prénoms féminins ci-dessus\n",
    "        if any(titre_termes in mots for titre_termes in titreF) or row['prenom'] in prenomsF :\n",
    "            annuaire_genre.loc[i,'genre'] = 'F'\n",
    "        # Sinon, la fonction est masculinisée ou le prénom dans la liste des prénoms masculins ci-dessus\n",
    "        elif any(titre_termes in mots for titre_termes in titreM) or row['prenom'] in prenomsH :\n",
    "            annuaire_genre.loc[i,'genre'] = 'M'\n",
    "        # Sinon on tranche en affectant le genre le plus fréquent du nom\n",
    "        else : \n",
    "            if annuaire_genre.loc[i,'propMale']> 0.5 : \n",
    "                annuaire_genre.loc[i,'genre'] = 'M'\n",
    "            else :\n",
    "                annuaire_genre.loc[i,'genre'] = 'F'\n",
    "        "
   ]
  },
  {
   "cell_type": "code",
   "execution_count": 17,
   "metadata": {},
   "outputs": [
    {
     "data": {
      "text/plain": [
       "(0, 15)"
      ]
     },
     "execution_count": 17,
     "metadata": {},
     "output_type": "execute_result"
    }
   ],
   "source": [
    "restant = annuaire_genre[(pd.isnull(annuaire_genre['genre'])) & (annuaire_genre['personne'] != \"Non communique\")]\n",
    "restant.shape"
   ]
  },
  {
   "cell_type": "code",
   "execution_count": 23,
   "metadata": {},
   "outputs": [],
   "source": [
    "# Filtrage pour ne garder que les personnes de rang == 0, donc la profondeur est <=5 \n",
    "# et dont le service est hiérarchiquement rattaché un ministère (pas une AAI ou une juridiction)\n",
    "annuaire_genre = annuaire_genre[(annuaire_genre['rang'] == 0) & \n",
    "                                (annuaire_genre['profondeur'] <= 5) & \n",
    "                                (annuaire_genre['hierarchie'].str.startswith('Ministère')) &\n",
    "                                (annuaire_genre['personne_raw'] != 'Non communiqué')] \n",
    "\n",
    "annuaire_genre = annuaire_genre.drop(['page', 'preusuel', 'propMale', '_merge', 'personne'], axis=1)\n",
    "annuaire_genre.head()"
   ]
  },
  {
   "cell_type": "code",
   "execution_count": 18,
   "metadata": {},
   "outputs": [],
   "source": [
    "annuaire_genre.to_csv('annuaire_genre.csv', sep=';', encoding='utf-8', index=False)"
   ]
  }
 ],
 "metadata": {
  "kernelspec": {
   "display_name": "Python 3",
   "language": "python",
   "name": "python3"
  },
  "language_info": {
   "codemirror_mode": {
    "name": "ipython",
    "version": 3
   },
   "file_extension": ".py",
   "mimetype": "text/x-python",
   "name": "python",
   "nbconvert_exporter": "python",
   "pygments_lexer": "ipython3",
   "version": "3.6.5"
  }
 },
 "nbformat": 4,
 "nbformat_minor": 2
}
